{
 "cells": [
  {
   "cell_type": "code",
   "execution_count": 1,
   "metadata": {},
   "outputs": [],
   "source": [
    "import pyspark\n",
    "from pyspark.sql import SparkSession"
   ]
  },
  {
   "cell_type": "code",
   "execution_count": 2,
   "metadata": {},
   "outputs": [
    {
     "name": "stdout",
     "output_type": "stream",
     "text": [
      "23/03/06 14:54:14 WARN Utils: Your hostname, warcry98 resolves to a loopback address: 127.0.1.1; using 192.168.100.64 instead (on interface wlp3s0)\n",
      "23/03/06 14:54:14 WARN Utils: Set SPARK_LOCAL_IP if you need to bind to another address\n"
     ]
    },
    {
     "name": "stderr",
     "output_type": "stream",
     "text": [
      "Setting default log level to \"WARN\".\n",
      "To adjust logging level use sc.setLogLevel(newLevel). For SparkR, use setLogLevel(newLevel).\n"
     ]
    },
    {
     "name": "stdout",
     "output_type": "stream",
     "text": [
      "23/03/06 14:54:15 WARN NativeCodeLoader: Unable to load native-hadoop library for your platform... using builtin-java classes where applicable\n",
      "23/03/06 14:54:17 WARN Utils: Service 'SparkUI' could not bind on port 4040. Attempting port 4041.\n",
      "23/03/06 14:54:17 WARN Utils: Service 'SparkUI' could not bind on port 4041. Attempting port 4042.\n"
     ]
    }
   ],
   "source": [
    "spark = SparkSession.builder \\\n",
    "        .master(\"local[*]\") \\\n",
    "        .appName(\"test\") \\\n",
    "        .getOrCreate()"
   ]
  },
  {
   "cell_type": "code",
   "execution_count": 22,
   "metadata": {},
   "outputs": [],
   "source": [
    "df = spark.read.parquet('Data/fhvhv/2021/06/')"
   ]
  },
  {
   "cell_type": "code",
   "execution_count": 4,
   "metadata": {},
   "outputs": [
    {
     "name": "stdout",
     "output_type": "stream",
     "text": [
      "root\n",
      " |-- dispatching_base_num: string (nullable = true)\n",
      " |-- pickup_datetime: timestamp (nullable = true)\n",
      " |-- dropoff_datetime: timestamp (nullable = true)\n",
      " |-- PULocationID: integer (nullable = true)\n",
      " |-- DOLocationID: integer (nullable = true)\n",
      " |-- SR_Flag: string (nullable = true)\n",
      " |-- Affiliated_base_number: string (nullable = true)\n",
      "\n"
     ]
    }
   ],
   "source": [
    "df.printSchema()"
   ]
  },
  {
   "cell_type": "code",
   "execution_count": 23,
   "metadata": {},
   "outputs": [
    {
     "name": "stdout",
     "output_type": "stream",
     "text": [
      "+--------------------+-------------------+-------------------+------------+------------+-------+----------------------+\n",
      "|dispatching_base_num|    pickup_datetime|   dropoff_datetime|PULocationID|DOLocationID|SR_Flag|Affiliated_base_number|\n",
      "+--------------------+-------------------+-------------------+------------+------------+-------+----------------------+\n",
      "|              B02875|2021-06-16 17:30:56|2021-06-16 18:08:31|         141|          68|      N|                B02875|\n",
      "|              B02871|2021-06-25 03:46:52|2021-06-25 04:09:45|          68|          68|      N|                B02871|\n",
      "|              B02510|2021-06-01 08:50:09|2021-06-01 09:17:40|         216|         134|      N|                  null|\n",
      "|              B02884|2021-06-15 19:05:01|2021-06-15 19:29:42|         163|         114|      N|                B02884|\n",
      "|              B02765|2021-06-17 11:53:53|2021-06-17 12:11:28|          77|         155|      N|                B02765|\n",
      "|              B02884|2021-06-18 17:59:09|2021-06-18 18:01:50|          76|          76|      N|                B02884|\n",
      "|              B02875|2021-06-01 20:07:39|2021-06-01 20:21:25|         146|         164|      N|                B02875|\n",
      "|              B02764|2021-06-15 06:40:30|2021-06-15 06:46:05|         186|         107|      N|                B02764|\n",
      "|              B02887|2021-06-26 01:17:09|2021-06-26 01:25:32|         243|         127|      N|                B02887|\n",
      "|              B02510|2021-06-22 16:01:03|2021-06-22 16:24:01|         181|          65|      N|                  null|\n",
      "|              B02764|2021-06-06 14:40:16|2021-06-06 15:04:58|          69|         265|      N|                B02764|\n",
      "|              B02510|2021-06-16 17:43:11|2021-06-16 18:01:24|         129|         196|      N|                  null|\n",
      "|              B02510|2021-06-19 20:15:33|2021-06-19 20:29:51|         248|         167|      N|                  null|\n",
      "|              B02866|2021-06-11 17:35:49|2021-06-11 17:45:03|         234|         186|      N|                B02866|\n",
      "|              B02875|2021-06-13 17:52:34|2021-06-13 18:20:18|          20|         116|      N|                B02875|\n",
      "|              B02872|2021-06-14 14:01:47|2021-06-14 14:31:37|         132|          35|      N|                B02872|\n",
      "|              B02887|2021-06-20 01:21:33|2021-06-20 01:49:36|         107|         200|      N|                B02887|\n",
      "|              B02870|2021-06-18 18:46:42|2021-06-18 19:24:14|         161|         256|      N|                B02870|\n",
      "|              B02510|2021-06-30 07:20:55|2021-06-30 07:37:12|         225|          49|      N|                  null|\n",
      "|              B02836|2021-06-17 19:58:50|2021-06-17 20:15:30|         234|         262|      N|                B02836|\n",
      "+--------------------+-------------------+-------------------+------------+------------+-------+----------------------+\n",
      "only showing top 20 rows\n",
      "\n"
     ]
    }
   ],
   "source": [
    "df.show()"
   ]
  },
  {
   "cell_type": "code",
   "execution_count": 21,
   "metadata": {},
   "outputs": [],
   "source": [
    "from pyspark.sql import functions as F"
   ]
  },
  {
   "cell_type": "code",
   "execution_count": 32,
   "metadata": {},
   "outputs": [],
   "source": [
    "df_date = df \\\n",
    "  .withColumn('pickup_date', F.to_date(df.pickup_datetime)) \\\n",
    "  .withColumn('dropoff_date', F.to_date(df.dropoff_datetime)) \\\n",
    "  .select('dispatching_base_num', 'pickup_date', 'dropoff_date', 'PULocationID', 'DOLocationID')"
   ]
  },
  {
   "cell_type": "code",
   "execution_count": 33,
   "metadata": {},
   "outputs": [
    {
     "name": "stdout",
     "output_type": "stream",
     "text": [
      "+--------------------+-----------+------------+------------+------------+\n",
      "|dispatching_base_num|pickup_date|dropoff_date|PULocationID|DOLocationID|\n",
      "+--------------------+-----------+------------+------------+------------+\n",
      "|              B02875| 2021-06-16|  2021-06-16|         141|          68|\n",
      "|              B02871| 2021-06-25|  2021-06-25|          68|          68|\n",
      "|              B02510| 2021-06-01|  2021-06-01|         216|         134|\n",
      "|              B02884| 2021-06-15|  2021-06-15|         163|         114|\n",
      "|              B02765| 2021-06-17|  2021-06-17|          77|         155|\n",
      "|              B02884| 2021-06-18|  2021-06-18|          76|          76|\n",
      "|              B02875| 2021-06-01|  2021-06-01|         146|         164|\n",
      "|              B02764| 2021-06-15|  2021-06-15|         186|         107|\n",
      "|              B02887| 2021-06-26|  2021-06-26|         243|         127|\n",
      "|              B02510| 2021-06-22|  2021-06-22|         181|          65|\n",
      "|              B02764| 2021-06-06|  2021-06-06|          69|         265|\n",
      "|              B02510| 2021-06-16|  2021-06-16|         129|         196|\n",
      "|              B02510| 2021-06-19|  2021-06-19|         248|         167|\n",
      "|              B02866| 2021-06-11|  2021-06-11|         234|         186|\n",
      "|              B02875| 2021-06-13|  2021-06-13|          20|         116|\n",
      "|              B02872| 2021-06-14|  2021-06-14|         132|          35|\n",
      "|              B02887| 2021-06-20|  2021-06-20|         107|         200|\n",
      "|              B02870| 2021-06-18|  2021-06-18|         161|         256|\n",
      "|              B02510| 2021-06-30|  2021-06-30|         225|          49|\n",
      "|              B02836| 2021-06-17|  2021-06-17|         234|         262|\n",
      "+--------------------+-----------+------------+------------+------------+\n",
      "only showing top 20 rows\n",
      "\n"
     ]
    }
   ],
   "source": [
    "df_date.show()"
   ]
  },
  {
   "cell_type": "code",
   "execution_count": 35,
   "metadata": {},
   "outputs": [
    {
     "name": "stderr",
     "output_type": "stream",
     "text": [
      "                                                                                \r"
     ]
    },
    {
     "data": {
      "text/plain": [
       "452470"
      ]
     },
     "execution_count": 35,
     "metadata": {},
     "output_type": "execute_result"
    }
   ],
   "source": [
    "df_date.filter(\"pickup_date = '2021-06-15'\").count()"
   ]
  }
 ],
 "metadata": {
  "kernelspec": {
   "display_name": "venv",
   "language": "python",
   "name": "python3"
  },
  "language_info": {
   "codemirror_mode": {
    "name": "ipython",
    "version": 3
   },
   "file_extension": ".py",
   "mimetype": "text/x-python",
   "name": "python",
   "nbconvert_exporter": "python",
   "pygments_lexer": "ipython3",
   "version": "3.9.16"
  },
  "orig_nbformat": 4
 },
 "nbformat": 4,
 "nbformat_minor": 2
}
